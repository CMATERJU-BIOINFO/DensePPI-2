{
 "cells": [
  {
   "cell_type": "code",
   "execution_count": 34,
   "id": "7e211291-186a-4061-b517-8cf08d0eb557",
   "metadata": {
    "id": "7e211291-186a-4061-b517-8cf08d0eb557"
   },
   "outputs": [],
   "source": [
    "import numpy as np, os\n",
    "import matplotlib.pyplot as plt\n",
    "import pandas as pd\n",
    "import seaborn as sns\n",
    "from tqdm import tqdm\n",
    "from PIL import Image"
   ]
  },
  {
   "cell_type": "markdown",
   "id": "wqmaBA1yexDD",
   "metadata": {
    "id": "wqmaBA1yexDD"
   },
   "source": [
    "### Normalization Neighbouring Layer with Deay :"
   ]
  },
  {
   "cell_type": "code",
   "execution_count": 17,
   "id": "qmx5WryuyLW4",
   "metadata": {
    "id": "qmx5WryuyLW4"
   },
   "outputs": [],
   "source": [
    "\n",
    "\n",
    "slwCount = lambda height, width, window,stride: ((height - window) // stride + 1 )*((width - window) // stride + 1 )\n",
    "extract_file_info = lambda s: (s.split('_')[0].upper(), ''.join([char for char in s if char.isdigit()])[-2:])\n",
    "\n",
    "\n",
    "def normalize(predictions):\n",
    "    flat_predictions = np.array(predictions).flatten()\n",
    "    min_val = np.min(flat_predictions)\n",
    "    max_val = np.max(flat_predictions)\n",
    "    normalized_predictions = 2 * (np.array(predictions) - min_val) / (max_val - min_val) - 1\n",
    "    return normalized_predictions.tolist()\n",
    "\n",
    "def decay_function(value, layer, decay_rate=0.1):\n",
    "    return value * np.exp(-decay_rate * layer)\n",
    "\n",
    "def create_centered_matrix(m, v, decay_rate=0.1):\n",
    "    matrix = np.zeros((m, m), dtype=float)\n",
    "    center = m // 2\n",
    "\n",
    "    for layer in range(center + 1):\n",
    "        value = decay_function(v, layer, decay_rate)\n",
    "\n",
    "        if center - layer >= 0 and center + layer < m:\n",
    "            matrix[center - layer, center - layer:center + layer + 1] = value[center - layer, center - layer:center + layer + 1]\n",
    "            matrix[center + layer, center - layer:center + layer + 1] = value[center + layer, center - layer:center + layer + 1]\n",
    "            matrix[center - layer:center + layer + 1, center - layer] = value[center - layer:center + layer + 1, center - layer]\n",
    "            matrix[center - layer:center + layer + 1, center + layer] = value[center - layer:center + layer + 1, center + layer]\n",
    "\n",
    "    return matrix"
   ]
  },
  {
   "cell_type": "markdown",
   "id": "c2e69e68",
   "metadata": {},
   "source": [
    "### Image Gen"
   ]
  },
  {
   "cell_type": "code",
   "execution_count": 29,
   "id": "PdtWErLEyzMV",
   "metadata": {
    "id": "PdtWErLEyzMV"
   },
   "outputs": [],
   "source": [
    "def InteractionMapPlotComplete(pid,xp,yp,seq1,seq2, predictions, pred_img_dims, height, width, imgSize, stride,opf, norm=False, decay_rate=0.1):\n",
    "\n",
    "    a1 = list(range(0, height-imgSize+stride, stride))\n",
    "    a2 = list(range(0, width-imgSize+stride, stride))\n",
    "    if (a1[-1]+imgSize != height):\n",
    "        a1[-1] = height-imgSize\n",
    "    if (a2[-1]+imgSize != width):\n",
    "        a2[-1] = width-imgSize\n",
    "\n",
    "    fin_img = np.zeros((height, width))\n",
    "\n",
    "    assert pred_img_dims[0] == len(a1)\n",
    "    assert pred_img_dims[1] == len(a2)\n",
    "\n",
    "    flat_predictions = np.array(predictions).flatten()\n",
    "    vmax = np.max(flat_predictions)\n",
    "    vmin = np.min(flat_predictions)\n",
    "    predIdxCounter = 0\n",
    "\n",
    "    sns.set_style(\"white\")\n",
    "    for i, y in enumerate(a1):\n",
    "        for j, x in enumerate(a2):\n",
    "            tempPred = predictions[predIdxCounter]\n",
    "            argMax = np.argmax(tempPred)\n",
    "            current_value = tempPred[argMax]\n",
    "            if argMax == 1:\n",
    "                utempPred = tempPred[argMax]\n",
    "            else:\n",
    "                utempPred = -1 * np.abs(tempPred[argMax])\n",
    "                # utempPred = tempPred[argMax]\n",
    "\n",
    "            prev_value = fin_img[y:y+imgSize, x:x+imgSize]\n",
    "            average_value = (prev_value + utempPred) / 2\n",
    "\n",
    "            decay_matrix = create_centered_matrix(imgSize, average_value, decay_rate)\n",
    "\n",
    "            fin_img[y:y+imgSize, x:x+imgSize] += decay_matrix\n",
    "\n",
    "            predIdxCounter += 1\n",
    "\n",
    "\n",
    "    fig, axs = plt.subplots(1, 1, figsize=(6, 6), dpi=200)\n",
    "\n",
    "    # Plot normalized interaction map\n",
    "    im_norm = axs.imshow(fin_img, cmap='RdYlGn', vmax=1, vmin=-1)\n",
    "    fig.colorbar(im_norm, ax=axs, fraction=0.02, pad=0.09)\n",
    "    plt.xlabel(xp)\n",
    "    plt.ylabel(yp)\n",
    "\n",
    "    if not os.path.exists(opf):\n",
    "        os.makedirs(opf)\n",
    "\n",
    "    save_path = f'{opf}/{pid}_norm_intr_map.png'\n",
    "    plt.savefig(save_path)\n",
    "\n",
    "    plt.close(fig)"
   ]
  },
  {
   "cell_type": "code",
   "execution_count": 31,
   "id": "ZR5zYnMI4Roo",
   "metadata": {
    "id": "ZR5zYnMI4Roo"
   },
   "outputs": [],
   "source": [
    "def process(ip_file_path, org, optype, optp, stride):\n",
    "    \n",
    "    op_file_path = f'./Figure/{org}/{optype}/Stride-{stride}/{optp}'  # you can set oytput Figure path here\n",
    "    df = pd.read_csv(ip_file_path)\n",
    "\n",
    "    # Add tqdm to iterate through the dataframe rows\n",
    "#     for index, row in tqdm(df.iterrows(), total=df.shape[0], desc=\"Processing interactions\", unit=\"PPI\", leave=True):\n",
    "    for index, row in df.iterrows():\n",
    "        pid = f\"{index}_{df.iloc[index]['Protein_1']}_{df.iloc[index]['Protein_2']}\"\n",
    "        pid = pid.replace('.', '-')\n",
    "        yp = pid.split('_')[1]\n",
    "        xp = pid.split('_')[2]\n",
    "\n",
    "        seq1 = df.iloc[index]['Protein_seq1']\n",
    "        seq2 = df.iloc[index]['Protein_seq2']\n",
    "\n",
    "        imgSize = 128\n",
    "        height = len(seq1)\n",
    "        width = len(seq2)\n",
    "\n",
    "        predictions = eval(df.iloc[index]['resultant_scores'])\n",
    "\n",
    "        pred_img_dims = eval(df.iloc[index]['img_dim'])\n",
    "\n",
    "        normalized_predictions = normalize(predictions)\n",
    "\n",
    "        decay_rate = 0.1\n",
    "        norm = True\n",
    "        InteractionMapPlotComplete(pid, xp, yp, seq1, seq2, normalized_predictions, pred_img_dims, height, width, imgSize, stride, op_file_path, norm, decay_rate)\n",
    "#         if index==5: break\n",
    "    return index"
   ]
  },
  {
   "cell_type": "code",
   "execution_count": null,
   "id": "QfmqwEblJZLp",
   "metadata": {
    "id": "QfmqwEblJZLp"
   },
   "outputs": [],
   "source": []
  },
  {
   "cell_type": "code",
   "execution_count": 32,
   "id": "1Qt8-wMrXwGB",
   "metadata": {
    "colab": {
     "base_uri": "https://localhost:8080/"
    },
    "executionInfo": {
     "elapsed": 1071785,
     "status": "ok",
     "timestamp": 1719697451358,
     "user": {
      "displayName": "Anup Kumar Halder",
      "userId": "08503584604517617335"
     },
     "user_tz": -120
    },
    "id": "1Qt8-wMrXwGB",
    "outputId": "e800bf7d-8c1d-433e-ab7c-56f76b86ce35"
   },
   "outputs": [
    {
     "name": "stderr",
     "output_type": "stream",
     "text": [
      "Processing files:  17%|██████▎                               | 1/6 [00:01<00:05,  1.11s/file]"
     ]
    },
    {
     "name": "stdout",
     "output_type": "stream",
     "text": [
      "Yeast-POSITIVE-64, 5, File: positive_result_sc_pam120_stride64.csv\n"
     ]
    },
    {
     "name": "stderr",
     "output_type": "stream",
     "text": [
      "\r\n",
      "Processing files:  33%|████████████▋                         | 2/6 [00:05<00:11,  2.86s/file]"
     ]
    },
    {
     "name": "stdout",
     "output_type": "stream",
     "text": [
      "Yeast-POSITIVE-16, 5, File: positive_result_sc_pam120_stride16.csv\n"
     ]
    },
    {
     "name": "stderr",
     "output_type": "stream",
     "text": [
      "\r\n",
      "Processing files:  50%|███████████████████                   | 3/6 [00:06<00:06,  2.16s/file]"
     ]
    },
    {
     "name": "stdout",
     "output_type": "stream",
     "text": [
      "Yeast-NEGATIVE-32, 5, File: negative_result_sc_pam120_stride32.csv\n"
     ]
    },
    {
     "name": "stderr",
     "output_type": "stream",
     "text": [
      "\r\n",
      "Processing files:  67%|█████████████████████████▎            | 4/6 [00:08<00:04,  2.02s/file]"
     ]
    },
    {
     "name": "stdout",
     "output_type": "stream",
     "text": [
      "Yeast-POSITIVE-32, 5, File: positive_result_sc_pam120_stride32.csv\n"
     ]
    },
    {
     "name": "stderr",
     "output_type": "stream",
     "text": [
      "\r\n",
      "Processing files:  83%|███████████████████████████████▋      | 5/6 [00:10<00:02,  2.25s/file]"
     ]
    },
    {
     "name": "stdout",
     "output_type": "stream",
     "text": [
      "Yeast-NEGATIVE-16, 5, File: negative_result_sc_pam120_stride16.csv\n"
     ]
    },
    {
     "name": "stderr",
     "output_type": "stream",
     "text": [
      "Processing files: 100%|██████████████████████████████████████| 6/6 [00:12<00:00,  2.01s/file]"
     ]
    },
    {
     "name": "stdout",
     "output_type": "stream",
     "text": [
      "Yeast-NEGATIVE-64, 5, File: negative_result_sc_pam120_stride64.csv\n"
     ]
    },
    {
     "name": "stderr",
     "output_type": "stream",
     "text": [
      "\n"
     ]
    }
   ],
   "source": [
    "\n",
    "org='Yeast'\n",
    "opf='PROTEIN'\n",
    "fpath=f'./ResultFiles/{org}/'  # path to predicted score Files\n",
    "fpath='./currTestSCnegP16'\n",
    "files = os.listdir(fpath)\n",
    "\n",
    "\n",
    "csv_files = [inpf for inpf in files if inpf.endswith('.csv')]\n",
    "\n",
    "for inpf in tqdm(csv_files, desc=\"Processing files\", unit=\"file\"):\n",
    "    optp, stride = extract_file_info(inpf)  # Extract file info\n",
    "    rc = process(f'{fpath}{inpf}', org, opf, optp, int(stride))\n",
    "    print(f'{org}-{optp}-{stride}, {rc}, File: {inpf}')"
   ]
  },
  {
   "cell_type": "code",
   "execution_count": 38,
   "id": "mbStVLA4ELqr",
   "metadata": {
    "id": "mbStVLA4ELqr"
   },
   "outputs": [],
   "source": [
    "\n",
    "\n"
   ]
  }
 ],
 "metadata": {
  "colab": {
   "provenance": []
  },
  "kernelspec": {
   "display_name": "Python 3 (ipykernel)",
   "language": "python",
   "name": "python3"
  },
  "language_info": {
   "codemirror_mode": {
    "name": "ipython",
    "version": 3
   },
   "file_extension": ".py",
   "mimetype": "text/x-python",
   "name": "python",
   "nbconvert_exporter": "python",
   "pygments_lexer": "ipython3",
   "version": "3.9.13"
  }
 },
 "nbformat": 4,
 "nbformat_minor": 5
}
